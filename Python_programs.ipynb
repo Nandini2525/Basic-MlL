{
  "nbformat": 4,
  "nbformat_minor": 0,
  "metadata": {
    "colab": {
      "name": "Python programs",
      "provenance": [],
      "authorship_tag": "ABX9TyNAUMKAlsGOQRfAmnYd81bZ",
      "include_colab_link": true
    },
    "kernelspec": {
      "name": "python3",
      "display_name": "Python 3"
    },
    "language_info": {
      "name": "python"
    }
  },
  "cells": [
    {
      "cell_type": "markdown",
      "metadata": {
        "id": "view-in-github",
        "colab_type": "text"
      },
      "source": [
        "<a href=\"https://colab.research.google.com/github/Nandini2525/Basic-MlL/blob/main/Python_programs.ipynb\" target=\"_parent\"><img src=\"https://colab.research.google.com/assets/colab-badge.svg\" alt=\"Open In Colab\"/></a>"
      ]
    },
    {
      "cell_type": "code",
      "metadata": {
        "id": "BsaqCTEl9rk_"
      },
      "source": [
        " Factorial of a number"
      ],
      "execution_count": null,
      "outputs": []
    },
    {
      "cell_type": "code",
      "metadata": {
        "colab": {
          "base_uri": "https://localhost:8080/"
        },
        "id": "DoVeYG2m9ufP",
        "outputId": "e3a07291-de15-4546-e533-9899e22fc53f"
      },
      "source": [
        "n=int(input ())\n",
        "fact=1 \n",
        "for i in range (1,n+1):\n",
        "    fact=fact*i \n",
        "    print (fact)"
      ],
      "execution_count": 1,
      "outputs": [
        {
          "output_type": "stream",
          "text": [
            "4\n",
            "1\n",
            "2\n",
            "6\n",
            "24\n"
          ],
          "name": "stdout"
        }
      ]
    },
    {
      "cell_type": "markdown",
      "metadata": {
        "id": "Lw153mXw-Y41"
      },
      "source": [
        "The above program is used to find the factorial of given number using for loop.Initially the fact value is one and the loop will execute and returns the output"
      ]
    },
    {
      "cell_type": "code",
      "metadata": {
        "id": "W9q2_Fqc-lnv"
      },
      "source": [
        "Even or odd"
      ],
      "execution_count": null,
      "outputs": []
    },
    {
      "cell_type": "code",
      "metadata": {
        "colab": {
          "base_uri": "https://localhost:8080/"
        },
        "id": "eSczYwWb-pin",
        "outputId": "7e5e6c17-8939-499c-d561-7874a1b15d89"
      },
      "source": [
        "n=int(input())\n",
        "if n%2== 0:\n",
        "    print (\"n is even\")\n",
        "else:\n",
        "    print (\"n is odd\")"
      ],
      "execution_count": 3,
      "outputs": [
        {
          "output_type": "stream",
          "text": [
            "25\n",
            "n is odd\n"
          ],
          "name": "stdout"
        }
      ]
    },
    {
      "cell_type": "markdown",
      "metadata": {
        "id": "Zdn-ATZe_J3A"
      },
      "source": [
        "The above program is used to verify the given number is even or odd by using if else conditions.If the given number is divisible by two then the number is even else the given number is odd"
      ]
    },
    {
      "cell_type": "code",
      "metadata": {
        "id": "62RqD4yb_TSs"
      },
      "source": [
        " sum of natural numbers"
      ],
      "execution_count": null,
      "outputs": []
    },
    {
      "cell_type": "code",
      "metadata": {
        "colab": {
          "base_uri": "https://localhost:8080/"
        },
        "id": "jkXKdbkB_XY8",
        "outputId": "00e49f23-b897-44c2-a72e-63b3f243a5bc"
      },
      "source": [
        "n=int(input ())\n",
        "i =1\n",
        "sum=0\n",
        "for i in range (1,n+1):\n",
        "    sum=sum+i \n",
        "    i = i+1 \n",
        "    print (sum)"
      ],
      "execution_count": 5,
      "outputs": [
        {
          "output_type": "stream",
          "text": [
            "5\n",
            "1\n",
            "3\n",
            "6\n",
            "10\n",
            "15\n"
          ],
          "name": "stdout"
        }
      ]
    },
    {
      "cell_type": "code",
      "metadata": {
        "id": "4qrXFYqt_y8M"
      },
      "source": [
        ""
      ],
      "execution_count": null,
      "outputs": []
    },
    {
      "cell_type": "markdown",
      "metadata": {
        "id": "VyxRBZay_0XF"
      },
      "source": [
        "The above program is used to find the sum of natural numbers using for loop.Intially the sum value is 0 and the loop will execute until it satisfies condition and returns the output"
      ]
    }
  ]
}